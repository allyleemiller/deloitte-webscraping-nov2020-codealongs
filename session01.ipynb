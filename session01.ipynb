{
 "cells": [
  {
   "cell_type": "markdown",
   "metadata": {},
   "source": [
    "# Objectives\n",
    "YWBAT\n",
    "* identify an object, a method and an attribute\n",
    "* write a conditional statement\n",
    "* write a for loop to iterate over a list\n",
    "* write a while loop that breaks on a conditional statement\n",
    "* write a function that takes in a string and returns a string\n",
    "* write a function that joins two parts of a url together using the `os` library"
   ]
  },
  {
   "cell_type": "markdown",
   "metadata": {},
   "source": [
    "## Python objects\n",
    "* All things are objects in Python \n",
    "\n",
    "```python\n",
    "x = 3 # x is an integer object type\n",
    "s = \"this is a string\" # s is a string object type\n",
    "l = [1, 2, 3, 4] # l is a list object type\n",
    "```\n",
    "\n",
    "* Most objects (but not all) have \n",
    "    * attributes → describe the object\n",
    "    * methods → do things (usually on the object)\n",
    "    \n",
    "### Normal syntax for objects and attributes/methods\n",
    "* attributes do not have parentheses\n",
    "\n",
    "```python\n",
    "arr.shape # .shape is an attribute that returns the dimensions of the array \n",
    "```\n",
    "\n",
    "* methods do have parentheses, anything that executes an action in python uses parentheses\n",
    "\n",
    "```python \n",
    "arr.mean() # .mean() is a method that returns the mean of the array\n",
    "```"
   ]
  },
  {
   "cell_type": "markdown",
   "metadata": {},
   "source": [
    "## Example"
   ]
  },
  {
   "cell_type": "code",
   "execution_count": null,
   "metadata": {},
   "outputs": [],
   "source": [
    "s = \"some string with some words in it\" # s is a string"
   ]
  },
  {
   "cell_type": "code",
   "execution_count": null,
   "metadata": {},
   "outputs": [],
   "source": [
    "s.upper() # .upper() is a method of s that will capitalize all the letters in s"
   ]
  },
  {
   "cell_type": "code",
   "execution_count": null,
   "metadata": {},
   "outputs": [],
   "source": [
    "s.startswith(\"abc\") # .startswith() is a method of s that will check if s starts with whatever you pass in"
   ]
  },
  {
   "cell_type": "code",
   "execution_count": null,
   "metadata": {},
   "outputs": [],
   "source": [
    "# strings have no attributes only methods\n",
    "# integers have no attributes and no methods\n",
    "# lists have have no attributes only methods"
   ]
  },
  {
   "cell_type": "markdown",
   "metadata": {},
   "source": [
    "# How to check the type of object you're working with"
   ]
  },
  {
   "cell_type": "code",
   "execution_count": null,
   "metadata": {},
   "outputs": [],
   "source": [
    "# the type function will tell you the type of object you are working with\n",
    "type(3), type('this is a string'), type([1, 2, 3, 4]), type(3.04)"
   ]
  },
  {
   "cell_type": "code",
   "execution_count": null,
   "metadata": {},
   "outputs": [],
   "source": [
    "# Create a list of the numbers 1-10\n",
    "lst1 = "
   ]
  },
  {
   "cell_type": "code",
   "execution_count": null,
   "metadata": {},
   "outputs": [],
   "source": [
    "# index the first and last numbers and store them as variables\n",
    "first_number = \n",
    "last_number = \n",
    "\n",
    "print(first_number, last_number)"
   ]
  },
  {
   "cell_type": "code",
   "execution_count": null,
   "metadata": {},
   "outputs": [],
   "source": [
    "# append the number 100 to the list\n"
   ]
  },
  {
   "cell_type": "code",
   "execution_count": null,
   "metadata": {},
   "outputs": [],
   "source": [
    "# add all of the elements of lst2 to lst1 using .extend\n",
    "\n",
    "lst2 = [20, 3.14, 1e4]\n",
    "\n",
    "# code here\n",
    "\n"
   ]
  },
  {
   "cell_type": "code",
   "execution_count": null,
   "metadata": {},
   "outputs": [],
   "source": [
    "# write a loop that goes through the list and prints out each number in the list\n"
   ]
  },
  {
   "cell_type": "code",
   "execution_count": null,
   "metadata": {},
   "outputs": [],
   "source": [
    "# write a loop that goes through the list and appends to the list 2*number\n"
   ]
  },
  {
   "cell_type": "code",
   "execution_count": null,
   "metadata": {},
   "outputs": [],
   "source": []
  },
  {
   "cell_type": "code",
   "execution_count": null,
   "metadata": {},
   "outputs": [],
   "source": [
    "# read in the file named `the-man-who-loved-only-numbers.txt`\n",
    "with open(\"./data/the-man-who-loved-only-numbers.txt\") as f:\n",
    "    quote = f.read()"
   ]
  },
  {
   "cell_type": "code",
   "execution_count": null,
   "metadata": {},
   "outputs": [],
   "source": [
    "# split the quote by new lines\n"
   ]
  },
  {
   "cell_type": "code",
   "execution_count": null,
   "metadata": {},
   "outputs": [],
   "source": [
    "# split the quote by new lines and store to a variable called quote_lines\n",
    "\n",
    "quote_lines = "
   ]
  },
  {
   "cell_type": "code",
   "execution_count": null,
   "metadata": {},
   "outputs": [],
   "source": [
    "# loop through each line and lower it and print it\n"
   ]
  },
  {
   "cell_type": "code",
   "execution_count": null,
   "metadata": {},
   "outputs": [],
   "source": [
    "import os"
   ]
  },
  {
   "cell_type": "code",
   "execution_count": null,
   "metadata": {},
   "outputs": [],
   "source": [
    "# os is a great library for joining paths together\n",
    "\n",
    "dirname = \"./content\" # this is a folder content located in the current directory\n",
    "filename = \"my_new_file.txt\""
   ]
  },
  {
   "cell_type": "code",
   "execution_count": null,
   "metadata": {},
   "outputs": [],
   "source": [
    "# create a string that looks like \"./content/my_new_file.txt\"\n"
   ]
  },
  {
   "cell_type": "code",
   "execution_count": null,
   "metadata": {},
   "outputs": [],
   "source": [
    "# now do the same thing using the os library\n"
   ]
  },
  {
   "cell_type": "markdown",
   "metadata": {},
   "source": [
    "# Dictionaries\n",
    "* One of the most important objects in python\n",
    "* Hold information in key/value pairs\n",
    "* Quick Lookups\n",
    "* Retrieval of values is easy\n",
    "* Most data that is sent to you with APIs comes in a dictionary format"
   ]
  },
  {
   "cell_type": "code",
   "execution_count": null,
   "metadata": {},
   "outputs": [],
   "source": [
    "# create a dictionary with keys 'name', 'age', 'date-of-birth', 'hometown', 'occupation' \n",
    "# and fill those values with someone's information, I'm using Chance The Rapper\n",
    "\n",
    "person = {}"
   ]
  },
  {
   "cell_type": "code",
   "execution_count": null,
   "metadata": {},
   "outputs": [],
   "source": [
    "# get the value of the name for the person using the .get() method"
   ]
  },
  {
   "cell_type": "code",
   "execution_count": null,
   "metadata": {},
   "outputs": [],
   "source": [
    "# run the following cell\n",
    "\n",
    "person.get(\"favorite_color\") # what do you notice"
   ]
  },
  {
   "cell_type": "code",
   "execution_count": null,
   "metadata": {},
   "outputs": [],
   "source": [
    "# run the following cell\n",
    "\n",
    "person.get(\"favorite_color\", \"wubba-lubba-dub-dub\") # what do you notice about this cell?"
   ]
  },
  {
   "cell_type": "markdown",
   "metadata": {},
   "source": [
    "### what does .get() do?"
   ]
  },
  {
   "cell_type": "code",
   "execution_count": null,
   "metadata": {},
   "outputs": [],
   "source": []
  }
 ],
 "metadata": {
  "kernelspec": {
   "display_name": "Python 3",
   "language": "python",
   "name": "python3"
  },
  "language_info": {
   "codemirror_mode": {
    "name": "ipython",
    "version": 3
   },
   "file_extension": ".py",
   "mimetype": "text/x-python",
   "name": "python",
   "nbconvert_exporter": "python",
   "pygments_lexer": "ipython3",
   "version": "3.6.9"
  }
 },
 "nbformat": 4,
 "nbformat_minor": 4
}
